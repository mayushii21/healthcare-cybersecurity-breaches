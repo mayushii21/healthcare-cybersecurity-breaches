{
 "cells": [
  {
   "cell_type": "code",
   "execution_count": 1,
   "metadata": {},
   "outputs": [],
   "source": [
    "import pandas as pd\n",
    "import numpy as np\n",
    "import hashlib"
   ]
  },
  {
   "cell_type": "code",
   "execution_count": 2,
   "metadata": {},
   "outputs": [
    {
     "data": {
      "text/plain": [
       "True"
      ]
     },
     "execution_count": 2,
     "metadata": {},
     "output_type": "execute_result"
    }
   ],
   "source": [
    "# Load the dataset from both csv and json, compare that they are equal and loaded correctly\n",
    "df = pd.read_csv(\"ocr-reduced.csv\")\n",
    "from_json = pd.read_json(\"ocr-reduced.jsonl\", lines=True)\n",
    "df.equals(pd.json_normalize(from_json[\"HS_DATA\"])[df.columns].replace(\"\", np.nan))"
   ]
  },
  {
   "cell_type": "code",
   "execution_count": 3,
   "metadata": {},
   "outputs": [],
   "source": [
    "# Create hashing function\n",
    "def hash(x):\n",
    "    return hashlib.sha256(x.encode()).hexdigest()"
   ]
  },
  {
   "cell_type": "code",
   "execution_count": 4,
   "metadata": {},
   "outputs": [],
   "source": [
    "# Apply hashing function\n",
    "df[\"name_of_covered_entity\"] = df[\"name_of_covered_entity\"].apply(hash)\n",
    "for breach in from_json[\"HS_DATA\"]:\n",
    "    breach[\"name_of_covered_entity\"] = hash(breach[\"name_of_covered_entity\"])\n",
    "from_json[[\"HS_RECORD_UUID\", \"HS_SOURCE\", \"HS_UUID\"]] = from_json[\n",
    "    [\"HS_RECORD_UUID\", \"HS_SOURCE\", \"HS_UUID\"]\n",
    "].applymap(hash)"
   ]
  },
  {
   "cell_type": "code",
   "execution_count": 5,
   "metadata": {},
   "outputs": [
    {
     "data": {
      "text/plain": [
       "True"
      ]
     },
     "execution_count": 5,
     "metadata": {},
     "output_type": "execute_result"
    }
   ],
   "source": [
    "# Verify that they are still equal\n",
    "df.equals(pd.json_normalize(from_json[\"HS_DATA\"])[df.columns].replace(\"\", np.nan))"
   ]
  },
  {
   "cell_type": "code",
   "execution_count": 6,
   "metadata": {},
   "outputs": [],
   "source": [
    "# Save files\n",
    "df.to_csv(\"ocr-reduced.csv\", index=False)\n",
    "from_json.to_json(\"ocr-reduced.jsonl\", orient=\"records\", lines=True)"
   ]
  }
 ],
 "metadata": {
  "kernelspec": {
   "display_name": "py311",
   "language": "python",
   "name": "python3"
  },
  "language_info": {
   "codemirror_mode": {
    "name": "ipython",
    "version": 3
   },
   "file_extension": ".py",
   "mimetype": "text/x-python",
   "name": "python",
   "nbconvert_exporter": "python",
   "pygments_lexer": "ipython3",
   "version": "3.11.3"
  }
 },
 "nbformat": 4,
 "nbformat_minor": 2
}
